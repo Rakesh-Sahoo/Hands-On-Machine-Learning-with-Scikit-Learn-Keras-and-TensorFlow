{
 "cells": [
  {
   "cell_type": "code",
   "execution_count": 1,
   "metadata": {},
   "outputs": [],
   "source": [
    "#!pip install tensorflow\n",
    "import tensorflow as tf"
   ]
  },
  {
   "cell_type": "code",
   "execution_count": 2,
   "metadata": {},
   "outputs": [],
   "source": [
    "from tensorflow import keras\n",
    "import numpy as np\n",
    "import matplotlib.pyplot as plt"
   ]
  },
  {
   "cell_type": "code",
   "execution_count": 3,
   "metadata": {},
   "outputs": [
    {
     "name": "stdout",
     "output_type": "stream",
     "text": [
      "\n",
      "     active environment : base\n",
      "    active env location : C:\\Users\\windows10\\anaconda3\n",
      "       user config file : C:\\Users\\windows10\\.condarc\n",
      " populated config files : C:\\Users\\windows10\\.condarc\n",
      "          conda version : 4.9.1\n",
      "    conda-build version : 3.18.11\n",
      "         python version : 3.7.6.final.0\n",
      "       virtual packages : __cuda=10.2=0\n",
      "                          __win=0=0\n",
      "                          __archspec=1=x86_64\n",
      "       base environment : C:\\Users\\windows10\\anaconda3  (writable)\n",
      "           channel URLs : https://repo.anaconda.com/pkgs/main/win-64\n",
      "                          https://repo.anaconda.com/pkgs/main/noarch\n",
      "                          https://repo.anaconda.com/pkgs/r/win-64\n",
      "                          https://repo.anaconda.com/pkgs/r/noarch\n",
      "                          https://repo.anaconda.com/pkgs/msys2/win-64\n",
      "                          https://repo.anaconda.com/pkgs/msys2/noarch\n",
      "          package cache : C:\\Users\\windows10\\anaconda3\\pkgs\n",
      "                          C:\\Users\\windows10\\.conda\\pkgs\n",
      "                          C:\\Users\\windows10\\AppData\\Local\\conda\\conda\\pkgs\n",
      "       envs directories : C:\\Users\\windows10\\anaconda3\\envs\n",
      "                          C:\\Users\\windows10\\.conda\\envs\n",
      "                          C:\\Users\\windows10\\AppData\\Local\\conda\\conda\\envs\n",
      "               platform : win-64\n",
      "             user-agent : conda/4.9.1 requests/2.25.0 CPython/3.7.6 Windows/10 Windows/10.0.18362\n",
      "          administrator : False\n",
      "             netrc file : None\n",
      "           offline mode : False\n",
      "\n"
     ]
    }
   ],
   "source": [
    "!conda info"
   ]
  },
  {
   "cell_type": "code",
   "execution_count": 4,
   "metadata": {},
   "outputs": [],
   "source": [
    "fashion_mnist = keras.datasets.fashion_mnist"
   ]
  },
  {
   "cell_type": "code",
   "execution_count": 5,
   "metadata": {},
   "outputs": [],
   "source": [
    "(X_train1, y_train1), (X_test1, y_test1) = fashion_mnist.load_data()"
   ]
  },
  {
   "cell_type": "code",
   "execution_count": 6,
   "metadata": {},
   "outputs": [],
   "source": [
    "X_train = X_train1.astype(np.float32).reshape(-1, 28*28) / 255.0\n",
    "X_test = X_test1.astype(np.float32).reshape(-1, 28*28) / 255.0\n",
    "y_train = y_train1.astype(np.int32)\n",
    "y_test = y_test1.astype(np.int32)\n",
    "X_valid, X_train = X_train[:5000], X_train[5000:]\n",
    "y_valid, y_train = y_train[:5000], y_train[5000:]"
   ]
  },
  {
   "cell_type": "code",
   "execution_count": 7,
   "metadata": {},
   "outputs": [
    {
     "data": {
      "text/plain": [
       "(55000, 784)"
      ]
     },
     "execution_count": 7,
     "metadata": {},
     "output_type": "execute_result"
    }
   ],
   "source": [
    "X_train.shape"
   ]
  },
  {
   "cell_type": "code",
   "execution_count": 8,
   "metadata": {},
   "outputs": [
    {
     "data": {
      "text/plain": [
       "dtype('float32')"
      ]
     },
     "execution_count": 8,
     "metadata": {},
     "output_type": "execute_result"
    }
   ],
   "source": [
    "X_train.dtype"
   ]
  },
  {
   "cell_type": "code",
   "execution_count": 9,
   "metadata": {},
   "outputs": [
    {
     "data": {
      "text/plain": [
       "<module 'tensorflow.keras.datasets.fashion_mnist' from 'C:\\\\Users\\\\windows10\\\\anaconda3\\\\lib\\\\site-packages\\\\tensorflow\\\\keras\\\\datasets\\\\fashion_mnist\\\\__init__.py'>"
      ]
     },
     "execution_count": 9,
     "metadata": {},
     "output_type": "execute_result"
    }
   ],
   "source": [
    "fashion_mnist"
   ]
  },
  {
   "cell_type": "code",
   "execution_count": 10,
   "metadata": {},
   "outputs": [],
   "source": [
    "class_names = [\"T-shirt/top\", \"Trouser\", \"Pullover\", \"Dress\", \"Coat\", \n",
    "               \"Sandal\", \"Shirt\", \"Sneaker\", \"Bag\", \"Ankle boot\"]"
   ]
  },
  {
   "cell_type": "code",
   "execution_count": 11,
   "metadata": {},
   "outputs": [
    {
     "data": {
      "text/plain": [
       "'Coat'"
      ]
     },
     "execution_count": 11,
     "metadata": {},
     "output_type": "execute_result"
    }
   ],
   "source": [
    "class_names[y_train[0]]"
   ]
  },
  {
   "cell_type": "code",
   "execution_count": 12,
   "metadata": {},
   "outputs": [
    {
     "data": {
      "text/plain": [
       "array([0.        , 0.        , 0.        , 0.        , 0.        ,\n",
       "       0.        , 0.        , 0.        , 0.        , 0.        ,\n",
       "       0.        , 0.        , 0.        , 0.        , 0.        ,\n",
       "       0.        , 0.        , 0.        , 0.        , 0.00392157,\n",
       "       0.        , 0.        , 0.        , 0.        , 0.        ,\n",
       "       0.        , 0.        , 0.        , 0.        , 0.        ,\n",
       "       0.        , 0.        , 0.        , 0.        , 0.        ,\n",
       "       0.        , 0.        , 0.        , 0.        , 0.17254902,\n",
       "       0.49803922, 0.7137255 , 0.7254902 , 0.6313726 , 0.47058824,\n",
       "       0.21568628, 0.        , 0.        , 0.        , 0.        ,\n",
       "       0.        , 0.        , 0.        , 0.        , 0.        ,\n",
       "       0.        , 0.        , 0.        , 0.        , 0.        ,\n",
       "       0.        , 0.        , 0.        , 0.        , 0.        ,\n",
       "       0.16470589, 0.7764706 , 0.9843137 , 1.        , 0.9843137 ,\n",
       "       0.9764706 , 0.96862745, 1.        , 0.9882353 , 0.8392157 ,\n",
       "       0.39215687, 0.        , 0.        , 0.        , 0.        ,\n",
       "       0.        , 0.        , 0.        , 0.        , 0.        ,\n",
       "       0.        , 0.        , 0.        , 0.        , 0.        ,\n",
       "       0.00784314, 0.        , 0.        , 0.9137255 , 0.9882353 ,\n",
       "       0.92941177, 0.9372549 , 0.91764706, 0.92941177, 0.92156863,\n",
       "       0.92941177, 0.92941177, 0.99607843, 0.8901961 , 0.        ,\n",
       "       0.        , 0.        , 0.        , 0.00392157, 0.        ,\n",
       "       0.        , 0.        , 0.        , 0.        , 0.        ,\n",
       "       0.        , 0.        , 0.00784314, 0.        , 0.        ,\n",
       "       0.0627451 , 0.8235294 , 0.88235295, 0.84313726, 0.6862745 ,\n",
       "       0.8509804 , 0.84705883, 0.75686276, 0.76862746, 0.8862745 ,\n",
       "       0.8666667 , 0.81960785, 0.19607843, 0.        , 0.        ,\n",
       "       0.00784314, 0.        , 0.        , 0.        , 0.        ,\n",
       "       0.        , 0.        , 0.        , 0.        , 0.00784314,\n",
       "       0.        , 0.        , 0.78039217, 0.8980392 , 0.9098039 ,\n",
       "       0.9019608 , 0.9607843 , 0.8       , 0.85882354, 0.99215686,\n",
       "       0.9607843 , 0.8117647 , 0.7607843 , 0.8745098 , 0.90588236,\n",
       "       0.9254902 , 0.92156863, 0.        , 0.        , 0.01176471,\n",
       "       0.        , 0.        , 0.        , 0.        , 0.        ,\n",
       "       0.        , 0.        , 0.00392157, 0.        , 0.5372549 ,\n",
       "       0.92156863, 0.8       , 0.81960785, 0.7882353 , 0.81960785,\n",
       "       0.91764706, 0.74509805, 0.91764706, 0.85490197, 0.84313726,\n",
       "       0.93333334, 0.9372549 , 0.8       , 0.7411765 , 0.8784314 ,\n",
       "       0.6039216 , 0.        , 0.        , 0.        , 0.        ,\n",
       "       0.        , 0.        , 0.        , 0.        , 0.        ,\n",
       "       0.        , 0.        , 0.7607843 , 0.7882353 , 0.78431374,\n",
       "       0.81960785, 0.7921569 , 0.75686276, 0.8039216 , 0.7607843 ,\n",
       "       0.7176471 , 0.85490197, 0.90588236, 0.77254903, 0.6745098 ,\n",
       "       0.70980394, 0.75686276, 0.8039216 , 0.78039217, 0.        ,\n",
       "       0.        , 0.        , 0.        , 0.        , 0.        ,\n",
       "       0.        , 0.        , 0.        , 0.        , 0.01176471,\n",
       "       0.83137256, 0.79607844, 0.7372549 , 0.7411765 , 0.76862746,\n",
       "       0.7764706 , 0.7764706 , 0.7882353 , 0.76862746, 0.8509804 ,\n",
       "       0.7019608 , 0.654902  , 0.7176471 , 0.8509804 , 0.77254903,\n",
       "       0.7921569 , 0.85882354, 0.11764706, 0.        , 0.        ,\n",
       "       0.        , 0.        , 0.        , 0.        , 0.        ,\n",
       "       0.        , 0.        , 0.13333334, 0.88235295, 0.78431374,\n",
       "       0.7607843 , 0.74509805, 0.7372549 , 0.7529412 , 0.76862746,\n",
       "       0.7529412 , 0.6666667 , 0.7921569 , 0.74509805, 0.7882353 ,\n",
       "       0.7647059 , 0.78431374, 0.7882353 , 0.81960785, 0.8901961 ,\n",
       "       0.19607843, 0.        , 0.        , 0.        , 0.        ,\n",
       "       0.        , 0.        , 0.        , 0.        , 0.        ,\n",
       "       0.26666668, 0.88235295, 0.8235294 , 0.827451  , 0.7764706 ,\n",
       "       0.7529412 , 0.76862746, 0.8       , 0.76862746, 0.70980394,\n",
       "       0.83137256, 0.77254903, 0.7647059 , 0.7529412 , 0.80784315,\n",
       "       0.8627451 , 0.8235294 , 0.8980392 , 0.3647059 , 0.        ,\n",
       "       0.        , 0.        , 0.        , 0.        , 0.        ,\n",
       "       0.        , 0.        , 0.        , 0.43529412, 0.8745098 ,\n",
       "       0.8901961 , 0.99215686, 0.81960785, 0.76862746, 0.8       ,\n",
       "       0.827451  , 0.80784315, 0.7176471 , 0.84705883, 0.80784315,\n",
       "       0.8235294 , 0.79607844, 0.84313726, 0.95686275, 0.8784314 ,\n",
       "       0.8901961 , 0.5882353 , 0.        , 0.        , 0.        ,\n",
       "       0.        , 0.        , 0.        , 0.        , 0.        ,\n",
       "       0.        , 0.54509807, 0.88235295, 0.8784314 , 1.        ,\n",
       "       0.7921569 , 0.80784315, 0.83137256, 0.81960785, 0.827451  ,\n",
       "       0.74509805, 0.8352941 , 0.7921569 , 0.8117647 , 0.80784315,\n",
       "       0.87058824, 1.        , 0.9019608 , 0.8627451 , 0.74509805,\n",
       "       0.        , 0.        , 0.        , 0.        , 0.        ,\n",
       "       0.        , 0.        , 0.        , 0.        , 0.7058824 ,\n",
       "       0.8862745 , 0.8784314 , 1.        , 0.78039217, 0.8       ,\n",
       "       0.8117647 , 0.8392157 , 0.8392157 , 0.74509805, 0.84705883,\n",
       "       0.80784315, 0.79607844, 0.8039216 , 0.85882354, 0.9529412 ,\n",
       "       0.8784314 , 0.8392157 , 0.91764706, 0.        , 0.        ,\n",
       "       0.        , 0.        , 0.        , 0.        , 0.        ,\n",
       "       0.        , 0.        , 0.88235295, 0.8745098 , 0.89411765,\n",
       "       0.99607843, 0.81960785, 0.80784315, 0.8156863 , 0.8352941 ,\n",
       "       0.8235294 , 0.7490196 , 0.84313726, 0.8117647 , 0.8       ,\n",
       "       0.8156863 , 0.827451  , 0.9764706 , 0.8862745 , 0.8392157 ,\n",
       "       1.        , 0.14901961, 0.        , 0.        , 0.        ,\n",
       "       0.        , 0.        , 0.        , 0.        , 0.        ,\n",
       "       0.98039216, 0.9098039 , 0.9411765 , 0.9372549 , 0.827451  ,\n",
       "       0.79607844, 0.81960785, 0.8039216 , 0.827451  , 0.77254903,\n",
       "       0.84313726, 0.8156863 , 0.8156863 , 0.8392157 , 0.8352941 ,\n",
       "       0.9372549 , 0.90588236, 0.85882354, 1.        , 0.31764707,\n",
       "       0.        , 0.        , 0.        , 0.        , 0.        ,\n",
       "       0.        , 0.        , 0.        , 0.972549  , 0.9254902 ,\n",
       "       0.96862745, 0.9411765 , 0.79607844, 0.78431374, 0.8156863 ,\n",
       "       0.80784315, 0.8392157 , 0.75686276, 0.8352941 , 0.83137256,\n",
       "       0.8156863 , 0.83137256, 0.827451  , 0.9529412 , 0.9490196 ,\n",
       "       0.88235295, 0.99607843, 0.25882354, 0.        , 0.        ,\n",
       "       0.        , 0.        , 0.        , 0.        , 0.        ,\n",
       "       0.        , 0.96862745, 0.9019608 , 0.9882353 , 0.8862745 ,\n",
       "       0.78039217, 0.827451  , 0.7921569 , 0.827451  , 0.8352941 ,\n",
       "       0.7137255 , 0.8352941 , 0.83137256, 0.80784315, 0.7921569 ,\n",
       "       0.85882354, 0.8117647 , 0.96862745, 0.87058824, 0.92941177,\n",
       "       0.40784314, 0.        , 0.        , 0.        , 0.        ,\n",
       "       0.        , 0.        , 0.        , 0.03921569, 0.95686275,\n",
       "       0.85882354, 0.98039216, 0.8039216 , 0.78039217, 0.81960785,\n",
       "       0.7921569 , 0.81960785, 0.827451  , 0.7411765 , 0.8392157 ,\n",
       "       0.80784315, 0.8235294 , 0.78431374, 0.83137256, 0.6039216 ,\n",
       "       0.9411765 , 0.8156863 , 0.85882354, 0.54901963, 0.        ,\n",
       "       0.        , 0.        , 0.        , 0.        , 0.        ,\n",
       "       0.        , 0.08235294, 1.        , 0.87058824, 0.93333334,\n",
       "       0.72156864, 0.8235294 , 0.7529412 , 0.80784315, 0.81960785,\n",
       "       0.8235294 , 0.7411765 , 0.8352941 , 0.827451  , 0.81960785,\n",
       "       0.7529412 , 0.89411765, 0.60784316, 0.8862745 , 0.93333334,\n",
       "       0.94509804, 0.6509804 , 0.        , 0.        , 0.        ,\n",
       "       0.        , 0.        , 0.        , 0.        , 0.14509805,\n",
       "       0.9607843 , 0.8862745 , 0.94509804, 0.5882353 , 0.77254903,\n",
       "       0.7411765 , 0.8       , 0.81960785, 0.8235294 , 0.7176471 ,\n",
       "       0.8352941 , 0.8352941 , 0.7882353 , 0.72156864, 0.84313726,\n",
       "       0.57254905, 0.84705883, 0.9254902 , 0.88235295, 0.6039216 ,\n",
       "       0.        , 0.        , 0.        , 0.        , 0.        ,\n",
       "       0.        , 0.        , 0.22745098, 0.9372549 , 0.8901961 ,\n",
       "       1.        , 0.61960787, 0.75686276, 0.7647059 , 0.8       ,\n",
       "       0.81960785, 0.8352941 , 0.7058824 , 0.8117647 , 0.8509804 ,\n",
       "       0.78039217, 0.7607843 , 0.827451  , 0.61960787, 0.85882354,\n",
       "       0.9254902 , 0.84705883, 0.5921569 , 0.        , 0.        ,\n",
       "       0.        , 0.        , 0.        , 0.        , 0.        ,\n",
       "       0.26666668, 0.9137255 , 0.8862745 , 0.9529412 , 0.54509807,\n",
       "       0.78431374, 0.75686276, 0.8039216 , 0.8235294 , 0.8156863 ,\n",
       "       0.7058824 , 0.8039216 , 0.83137256, 0.79607844, 0.76862746,\n",
       "       0.84705883, 0.6156863 , 0.7019608 , 1.        , 0.84705883,\n",
       "       0.60784316, 0.        , 0.        , 0.        , 0.        ,\n",
       "       0.        , 0.        , 0.        , 0.31764707, 0.88235295,\n",
       "       0.8784314 , 0.827451  , 0.5411765 , 0.85882354, 0.7254902 ,\n",
       "       0.7882353 , 0.8352941 , 0.8117647 , 0.77254903, 0.8862745 ,\n",
       "       0.83137256, 0.78431374, 0.74509805, 0.84313726, 0.7176471 ,\n",
       "       0.3529412 , 1.        , 0.827451  , 0.5764706 , 0.        ,\n",
       "       0.        , 0.        , 0.        , 0.        , 0.        ,\n",
       "       0.        , 0.35686275, 0.8235294 , 0.9019608 , 0.61960787,\n",
       "       0.44705883, 0.8039216 , 0.73333335, 0.8156863 , 0.81960785,\n",
       "       0.80784315, 0.75686276, 0.8235294 , 0.827451  , 0.8       ,\n",
       "       0.7647059 , 0.8       , 0.70980394, 0.09019608, 1.        ,\n",
       "       0.8352941 , 0.61960787, 0.        , 0.        , 0.        ,\n",
       "       0.        , 0.        , 0.        , 0.        , 0.34117648,\n",
       "       0.8039216 , 0.9098039 , 0.42745098, 0.6431373 , 1.        ,\n",
       "       0.8392157 , 0.8784314 , 0.87058824, 0.8235294 , 0.77254903,\n",
       "       0.8392157 , 0.88235295, 0.87058824, 0.827451  , 0.8627451 ,\n",
       "       0.8509804 , 0.        , 0.91764706, 0.84705883, 0.6627451 ,\n",
       "       0.        , 0.        , 0.        , 0.        , 0.        ,\n",
       "       0.        , 0.        , 0.36078432, 0.8352941 , 0.9098039 ,\n",
       "       0.57254905, 0.01960784, 0.5254902 , 0.5921569 , 0.63529414,\n",
       "       0.6666667 , 0.7176471 , 0.7137255 , 0.6431373 , 0.6509804 ,\n",
       "       0.69803923, 0.63529414, 0.6117647 , 0.38431373, 0.        ,\n",
       "       0.9411765 , 0.88235295, 0.8235294 , 0.        , 0.        ,\n",
       "       0.        , 0.        , 0.        , 0.        , 0.        ,\n",
       "       0.16862746, 0.6431373 , 0.80784315, 0.5529412 , 0.        ,\n",
       "       0.        , 0.        , 0.        , 0.        , 0.        ,\n",
       "       0.        , 0.        , 0.        , 0.        , 0.        ,\n",
       "       0.        , 0.        , 0.        , 0.49803922, 0.49019608,\n",
       "       0.29803923, 0.        , 0.        , 0.        ], dtype=float32)"
      ]
     },
     "execution_count": 12,
     "metadata": {},
     "output_type": "execute_result"
    }
   ],
   "source": [
    "X_train[0]"
   ]
  },
  {
   "cell_type": "code",
   "execution_count": 13,
   "metadata": {},
   "outputs": [
    {
     "data": {
      "text/plain": [
       "4"
      ]
     },
     "execution_count": 13,
     "metadata": {},
     "output_type": "execute_result"
    }
   ],
   "source": [
    "y_train[0]"
   ]
  },
  {
   "cell_type": "markdown",
   "metadata": {},
   "source": [
    "### Model Creation"
   ]
  },
  {
   "cell_type": "code",
   "execution_count": 14,
   "metadata": {},
   "outputs": [],
   "source": [
    "model = keras.models.Sequential()\n",
    "model.add(keras.layers.Flatten(input_shape= [28, 28]))\n",
    "model.add(keras.layers.Dense(300, activation= 'relu'))\n",
    "model.add(keras.layers.Dense(100, activation= 'relu'))\n",
    "model.add(keras.layers.Dense(10, activation= 'softmax'))"
   ]
  },
  {
   "cell_type": "code",
   "execution_count": 15,
   "metadata": {},
   "outputs": [],
   "source": [
    "model1 = keras.models.Sequential([\n",
    "    keras.layers.Flatten(input_shape= [28, 28]),\n",
    "    keras.layers.Dense(300, activation= 'relu'),\n",
    "    keras.layers.Dense(100, activation= 'relu'),\n",
    "    keras.layers.Dense(10, activation= 'softmax')\n",
    "])"
   ]
  },
  {
   "cell_type": "code",
   "execution_count": 16,
   "metadata": {},
   "outputs": [
    {
     "name": "stdout",
     "output_type": "stream",
     "text": [
      "Model: \"sequential\"\n",
      "_________________________________________________________________\n",
      "Layer (type)                 Output Shape              Param #   \n",
      "=================================================================\n",
      "flatten (Flatten)            (None, 784)               0         \n",
      "_________________________________________________________________\n",
      "dense (Dense)                (None, 300)               235500    \n",
      "_________________________________________________________________\n",
      "dense_1 (Dense)              (None, 100)               30100     \n",
      "_________________________________________________________________\n",
      "dense_2 (Dense)              (None, 10)                1010      \n",
      "=================================================================\n",
      "Total params: 266,610\n",
      "Trainable params: 266,610\n",
      "Non-trainable params: 0\n",
      "_________________________________________________________________\n"
     ]
    }
   ],
   "source": [
    "model.summary()"
   ]
  },
  {
   "cell_type": "code",
   "execution_count": 17,
   "metadata": {},
   "outputs": [
    {
     "name": "stdout",
     "output_type": "stream",
     "text": [
      "('Failed to import pydot. You must `pip install pydot` and install graphviz (https://graphviz.gitlab.io/download/), ', 'for `pydotprint` to work.')\n"
     ]
    }
   ],
   "source": [
    "keras.utils.plot_model(model)"
   ]
  },
  {
   "cell_type": "code",
   "execution_count": 18,
   "metadata": {},
   "outputs": [
    {
     "data": {
      "text/plain": [
       "[<tensorflow.python.keras.layers.core.Flatten at 0x1c330e71908>,\n",
       " <tensorflow.python.keras.layers.core.Dense at 0x1c337370248>,\n",
       " <tensorflow.python.keras.layers.core.Dense at 0x1c33751d708>,\n",
       " <tensorflow.python.keras.layers.core.Dense at 0x1c337546c48>]"
      ]
     },
     "execution_count": 18,
     "metadata": {},
     "output_type": "execute_result"
    }
   ],
   "source": [
    "model.layers"
   ]
  },
  {
   "cell_type": "code",
   "execution_count": 19,
   "metadata": {},
   "outputs": [
    {
     "data": {
      "text/plain": [
       "'dense'"
      ]
     },
     "execution_count": 19,
     "metadata": {},
     "output_type": "execute_result"
    }
   ],
   "source": [
    "hidden1 = model.layers[1]\n",
    "hidden1.name"
   ]
  },
  {
   "cell_type": "code",
   "execution_count": 20,
   "metadata": {},
   "outputs": [
    {
     "data": {
      "text/plain": [
       "True"
      ]
     },
     "execution_count": 20,
     "metadata": {},
     "output_type": "execute_result"
    }
   ],
   "source": [
    "model.get_layer('dense') is hidden1"
   ]
  },
  {
   "cell_type": "code",
   "execution_count": 21,
   "metadata": {},
   "outputs": [],
   "source": [
    "weights, biases = hidden1.get_weights()"
   ]
  },
  {
   "cell_type": "code",
   "execution_count": 22,
   "metadata": {},
   "outputs": [
    {
     "data": {
      "text/plain": [
       "array([[ 0.05836537,  0.01996708,  0.03478044, ...,  0.00064241,\n",
       "        -0.06943745, -0.06217699],\n",
       "       [ 0.02423757,  0.05696772,  0.06870039, ..., -0.01574584,\n",
       "         0.07347991, -0.04052715],\n",
       "       [-0.07343649,  0.05411379,  0.02490509, ..., -0.04229815,\n",
       "         0.04960863,  0.05325077],\n",
       "       ...,\n",
       "       [ 0.02201081, -0.07308338,  0.06434138, ...,  0.02753339,\n",
       "        -0.07435033,  0.04981187],\n",
       "       [-0.04117064,  0.05449805,  0.05085373, ..., -0.02849372,\n",
       "        -0.00012448,  0.00974432],\n",
       "       [-0.02027229, -0.0258931 , -0.02211609, ..., -0.06836782,\n",
       "        -0.04398919, -0.03656784]], dtype=float32)"
      ]
     },
     "execution_count": 22,
     "metadata": {},
     "output_type": "execute_result"
    }
   ],
   "source": [
    "weights"
   ]
  },
  {
   "cell_type": "code",
   "execution_count": 23,
   "metadata": {},
   "outputs": [
    {
     "data": {
      "text/plain": [
       "(784, 300)"
      ]
     },
     "execution_count": 23,
     "metadata": {},
     "output_type": "execute_result"
    }
   ],
   "source": [
    "weights.shape"
   ]
  },
  {
   "cell_type": "code",
   "execution_count": 24,
   "metadata": {},
   "outputs": [
    {
     "data": {
      "text/plain": [
       "array([0., 0., 0., 0., 0., 0., 0., 0., 0., 0., 0., 0., 0., 0., 0., 0., 0.,\n",
       "       0., 0., 0., 0., 0., 0., 0., 0., 0., 0., 0., 0., 0., 0., 0., 0., 0.,\n",
       "       0., 0., 0., 0., 0., 0., 0., 0., 0., 0., 0., 0., 0., 0., 0., 0., 0.,\n",
       "       0., 0., 0., 0., 0., 0., 0., 0., 0., 0., 0., 0., 0., 0., 0., 0., 0.,\n",
       "       0., 0., 0., 0., 0., 0., 0., 0., 0., 0., 0., 0., 0., 0., 0., 0., 0.,\n",
       "       0., 0., 0., 0., 0., 0., 0., 0., 0., 0., 0., 0., 0., 0., 0., 0., 0.,\n",
       "       0., 0., 0., 0., 0., 0., 0., 0., 0., 0., 0., 0., 0., 0., 0., 0., 0.,\n",
       "       0., 0., 0., 0., 0., 0., 0., 0., 0., 0., 0., 0., 0., 0., 0., 0., 0.,\n",
       "       0., 0., 0., 0., 0., 0., 0., 0., 0., 0., 0., 0., 0., 0., 0., 0., 0.,\n",
       "       0., 0., 0., 0., 0., 0., 0., 0., 0., 0., 0., 0., 0., 0., 0., 0., 0.,\n",
       "       0., 0., 0., 0., 0., 0., 0., 0., 0., 0., 0., 0., 0., 0., 0., 0., 0.,\n",
       "       0., 0., 0., 0., 0., 0., 0., 0., 0., 0., 0., 0., 0., 0., 0., 0., 0.,\n",
       "       0., 0., 0., 0., 0., 0., 0., 0., 0., 0., 0., 0., 0., 0., 0., 0., 0.,\n",
       "       0., 0., 0., 0., 0., 0., 0., 0., 0., 0., 0., 0., 0., 0., 0., 0., 0.,\n",
       "       0., 0., 0., 0., 0., 0., 0., 0., 0., 0., 0., 0., 0., 0., 0., 0., 0.,\n",
       "       0., 0., 0., 0., 0., 0., 0., 0., 0., 0., 0., 0., 0., 0., 0., 0., 0.,\n",
       "       0., 0., 0., 0., 0., 0., 0., 0., 0., 0., 0., 0., 0., 0., 0., 0., 0.,\n",
       "       0., 0., 0., 0., 0., 0., 0., 0., 0., 0., 0.], dtype=float32)"
      ]
     },
     "execution_count": 24,
     "metadata": {},
     "output_type": "execute_result"
    }
   ],
   "source": [
    "biases"
   ]
  },
  {
   "cell_type": "code",
   "execution_count": 25,
   "metadata": {},
   "outputs": [
    {
     "data": {
      "text/plain": [
       "(300,)"
      ]
     },
     "execution_count": 25,
     "metadata": {},
     "output_type": "execute_result"
    }
   ],
   "source": [
    "biases.shape"
   ]
  },
  {
   "cell_type": "markdown",
   "metadata": {},
   "source": [
    "### Compiling the model"
   ]
  },
  {
   "cell_type": "code",
   "execution_count": 26,
   "metadata": {},
   "outputs": [],
   "source": [
    "model.compile(loss= \"sparse_categorical_crossentropy\", \n",
    "             optimizer= \"sgd\", \n",
    "             metrics= [\"accuracy\"])"
   ]
  },
  {
   "cell_type": "markdown",
   "metadata": {},
   "source": [
    "### Training and evaluating the model"
   ]
  },
  {
   "cell_type": "code",
   "execution_count": 27,
   "metadata": {
    "scrolled": true
   },
   "outputs": [
    {
     "name": "stdout",
     "output_type": "stream",
     "text": [
      "Epoch 1/30\n",
      "WARNING:tensorflow:Model was constructed with shape (None, 28, 28) for input Tensor(\"flatten_input:0\", shape=(None, 28, 28), dtype=float32), but it was called on an input with incompatible shape (None, 784).\n",
      "WARNING:tensorflow:Model was constructed with shape (None, 28, 28) for input Tensor(\"flatten_input:0\", shape=(None, 28, 28), dtype=float32), but it was called on an input with incompatible shape (None, 784).\n",
      "1711/1719 [============================>.] - ETA: 0s - loss: 0.7144 - accuracy: 0.7661WARNING:tensorflow:Model was constructed with shape (None, 28, 28) for input Tensor(\"flatten_input:0\", shape=(None, 28, 28), dtype=float32), but it was called on an input with incompatible shape (None, 784).\n",
      "1719/1719 [==============================] - 7s 4ms/step - loss: 0.7136 - accuracy: 0.7663 - val_loss: 0.5422 - val_accuracy: 0.8078\n",
      "Epoch 2/30\n",
      "1719/1719 [==============================] - 7s 4ms/step - loss: 0.4893 - accuracy: 0.8313 - val_loss: 0.4380 - val_accuracy: 0.8494\n",
      "Epoch 3/30\n",
      "1719/1719 [==============================] - 7s 4ms/step - loss: 0.4435 - accuracy: 0.8447 - val_loss: 0.4136 - val_accuracy: 0.8582\n",
      "Epoch 4/30\n",
      "1719/1719 [==============================] - 7s 4ms/step - loss: 0.4158 - accuracy: 0.8545 - val_loss: 0.3963 - val_accuracy: 0.8624\n",
      "Epoch 5/30\n",
      "1719/1719 [==============================] - 7s 4ms/step - loss: 0.3947 - accuracy: 0.8615 - val_loss: 0.3915 - val_accuracy: 0.8590\n",
      "Epoch 6/30\n",
      "1719/1719 [==============================] - 7s 4ms/step - loss: 0.3790 - accuracy: 0.8660 - val_loss: 0.4013 - val_accuracy: 0.8592\n",
      "Epoch 7/30\n",
      "1719/1719 [==============================] - 7s 4ms/step - loss: 0.3656 - accuracy: 0.8702 - val_loss: 0.3616 - val_accuracy: 0.8722\n",
      "Epoch 8/30\n",
      "1719/1719 [==============================] - 7s 4ms/step - loss: 0.3555 - accuracy: 0.8745 - val_loss: 0.3427 - val_accuracy: 0.8798\n",
      "Epoch 9/30\n",
      "1719/1719 [==============================] - 7s 4ms/step - loss: 0.3439 - accuracy: 0.8777 - val_loss: 0.3596 - val_accuracy: 0.8744\n",
      "Epoch 10/30\n",
      "1719/1719 [==============================] - 7s 4ms/step - loss: 0.3349 - accuracy: 0.8805 - val_loss: 0.3425 - val_accuracy: 0.8826\n",
      "Epoch 11/30\n",
      "1719/1719 [==============================] - 6s 4ms/step - loss: 0.3263 - accuracy: 0.8837 - val_loss: 0.3502 - val_accuracy: 0.8762\n",
      "Epoch 12/30\n",
      "1719/1719 [==============================] - 6s 4ms/step - loss: 0.3186 - accuracy: 0.8856 - val_loss: 0.3543 - val_accuracy: 0.8762\n",
      "Epoch 13/30\n",
      "1719/1719 [==============================] - 7s 4ms/step - loss: 0.3110 - accuracy: 0.8892 - val_loss: 0.3547 - val_accuracy: 0.8716\n",
      "Epoch 14/30\n",
      "1719/1719 [==============================] - 6s 4ms/step - loss: 0.3047 - accuracy: 0.8917 - val_loss: 0.3333 - val_accuracy: 0.8782\n",
      "Epoch 15/30\n",
      "1719/1719 [==============================] - 7s 4ms/step - loss: 0.2983 - accuracy: 0.8926 - val_loss: 0.3291 - val_accuracy: 0.8782\n",
      "Epoch 16/30\n",
      "1719/1719 [==============================] - 7s 4ms/step - loss: 0.2918 - accuracy: 0.8948 - val_loss: 0.3170 - val_accuracy: 0.8852\n",
      "Epoch 17/30\n",
      "1719/1719 [==============================] - 7s 4ms/step - loss: 0.2865 - accuracy: 0.8965 - val_loss: 0.3193 - val_accuracy: 0.8874\n",
      "Epoch 18/30\n",
      "1719/1719 [==============================] - 6s 4ms/step - loss: 0.2814 - accuracy: 0.8989 - val_loss: 0.3133 - val_accuracy: 0.8890\n",
      "Epoch 19/30\n",
      "1719/1719 [==============================] - 7s 4ms/step - loss: 0.2770 - accuracy: 0.8997 - val_loss: 0.3085 - val_accuracy: 0.8916\n",
      "Epoch 20/30\n",
      "1719/1719 [==============================] - 7s 4ms/step - loss: 0.2709 - accuracy: 0.9024 - val_loss: 0.3005 - val_accuracy: 0.8926\n",
      "Epoch 21/30\n",
      "1719/1719 [==============================] - 6s 4ms/step - loss: 0.2672 - accuracy: 0.9034 - val_loss: 0.3047 - val_accuracy: 0.8898\n",
      "Epoch 22/30\n",
      "1719/1719 [==============================] - 7s 4ms/step - loss: 0.2616 - accuracy: 0.9061 - val_loss: 0.3186 - val_accuracy: 0.8896\n",
      "Epoch 23/30\n",
      "1719/1719 [==============================] - 6s 4ms/step - loss: 0.2582 - accuracy: 0.9065 - val_loss: 0.3199 - val_accuracy: 0.8838\n",
      "Epoch 24/30\n",
      "1719/1719 [==============================] - 7s 4ms/step - loss: 0.2528 - accuracy: 0.9072 - val_loss: 0.3021 - val_accuracy: 0.8906\n",
      "Epoch 25/30\n",
      "1719/1719 [==============================] - 7s 4ms/step - loss: 0.2489 - accuracy: 0.9099 - val_loss: 0.2961 - val_accuracy: 0.8952\n",
      "Epoch 26/30\n",
      "1719/1719 [==============================] - 7s 4ms/step - loss: 0.2457 - accuracy: 0.9110 - val_loss: 0.2911 - val_accuracy: 0.8960\n",
      "Epoch 27/30\n",
      "1719/1719 [==============================] - 7s 4ms/step - loss: 0.2414 - accuracy: 0.9130 - val_loss: 0.2877 - val_accuracy: 0.8972\n",
      "Epoch 28/30\n",
      "1719/1719 [==============================] - 7s 4ms/step - loss: 0.2371 - accuracy: 0.9142 - val_loss: 0.2946 - val_accuracy: 0.8956\n",
      "Epoch 29/30\n",
      "1719/1719 [==============================] - 7s 4ms/step - loss: 0.2338 - accuracy: 0.9152 - val_loss: 0.2939 - val_accuracy: 0.8958\n",
      "Epoch 30/30\n",
      "1719/1719 [==============================] - 7s 4ms/step - loss: 0.2293 - accuracy: 0.9162 - val_loss: 0.2969 - val_accuracy: 0.8916\n"
     ]
    }
   ],
   "source": [
    "history = model.fit(X_train, y_train, epochs=30,\n",
    "                    validation_data=(X_valid, y_valid))"
   ]
  },
  {
   "cell_type": "code",
   "execution_count": 28,
   "metadata": {},
   "outputs": [],
   "source": [
    "import pandas as pd\n",
    "import matplotlib.pyplot as plt"
   ]
  },
  {
   "cell_type": "code",
   "execution_count": 29,
   "metadata": {},
   "outputs": [
    {
     "data": {
      "image/png": "[encoded data removed]",
      "text/plain": [
       "<Figure size 576x360 with 1 Axes>"
      ]
     },
     "metadata": {
      "needs_background": "light"
     },
     "output_type": "display_data"
    }
   ],
   "source": [
    "pd.DataFrame(history.history).plot(figsize=(8, 5))\n",
    "plt.grid(True)\n",
    "plt.gca().set_ylim(0, 1) # set the vertical range to [0-1]\n",
    "plt.show()"
   ]
  },
  {
   "cell_type": "code",
   "execution_count": 30,
   "metadata": {},
   "outputs": [
    {
     "name": "stdout",
     "output_type": "stream",
     "text": [
      "313/313 [==============================] - 1s 2ms/step - loss: 0.3396 - accuracy: 0.8797\n"
     ]
    },
    {
     "data": {
      "text/plain": [
       "[0.33960625529289246, 0.8797000050544739]"
      ]
     },
     "execution_count": 30,
     "metadata": {},
     "output_type": "execute_result"
    }
   ],
   "source": [
    "model.evaluate(X_test, y_test)"
   ]
  },
  {
   "cell_type": "markdown",
   "metadata": {},
   "source": [
    "### Making Prediction"
   ]
  },
  {
   "cell_type": "code",
   "execution_count": 40,
   "metadata": {},
   "outputs": [
    {
     "data": {
      "text/plain": [
       "array([[0.  , 0.  , 0.  , 0.  , 0.  , 0.  , 0.  , 0.01, 0.  , 0.99],\n",
       "       [0.  , 0.  , 1.  , 0.  , 0.  , 0.  , 0.  , 0.  , 0.  , 0.  ],\n",
       "       [0.  , 1.  , 0.  , 0.  , 0.  , 0.  , 0.  , 0.  , 0.  , 0.  ],\n",
       "       [0.  , 1.  , 0.  , 0.  , 0.  , 0.  , 0.  , 0.  , 0.  , 0.  ],\n",
       "       [0.09, 0.  , 0.01, 0.  , 0.01, 0.  , 0.89, 0.  , 0.  , 0.  ],\n",
       "       [0.  , 1.  , 0.  , 0.  , 0.  , 0.  , 0.  , 0.  , 0.  , 0.  ]],\n",
       "      dtype=float32)"
      ]
     },
     "execution_count": 40,
     "metadata": {},
     "output_type": "execute_result"
    }
   ],
   "source": [
    "X_new = X_test[:6]\n",
    "y_proba = model.predict(X_new)\n",
    "y_proba.round(2)"
   ]
  },
  {
   "cell_type": "code",
   "execution_count": 41,
   "metadata": {},
   "outputs": [
    {
     "data": {
      "text/plain": [
       "array([9, 2, 1, 1, 6, 1], dtype=int64)"
      ]
     },
     "execution_count": 41,
     "metadata": {},
     "output_type": "execute_result"
    }
   ],
   "source": [
    "y_pred= model.predict_classes(X_new)\n",
    "y_pred"
   ]
  },
  {
   "cell_type": "code",
   "execution_count": 43,
   "metadata": {},
   "outputs": [
    {
     "data": {
      "text/plain": [
       "array([9, 2, 1, 1, 6, 1])"
      ]
     },
     "execution_count": 43,
     "metadata": {},
     "output_type": "execute_result"
    }
   ],
   "source": [
    "y_new= y_test[:6]\n",
    "y_new"
   ]
  },
  {
   "cell_type": "code",
   "execution_count": 46,
   "metadata": {},
   "outputs": [
    {
     "data": {
      "image/png": "[encoded data removed]",
      "text/plain": [
       "<Figure size 432x288 with 6 Axes>"
      ]
     },
     "metadata": {
      "needs_background": "light"
     },
     "output_type": "display_data"
    },
    {
     "name": "stdout",
     "output_type": "stream",
     "text": [
      "And the Predictions are ['Ankle boot' 'Pullover' 'Trouser' 'Trouser' 'Shirt' 'Trouser']\n"
     ]
    }
   ],
   "source": [
    "for i in range(len(y_new)):\n",
    "    # define subplot\n",
    "    plt.subplot(330 + 1 + i)\n",
    "    # plot raw pixel data\n",
    "    plt.imshow(X_test1[i],cmap=plt.get_cmap('gray'))\n",
    "# show the figure\n",
    "plt.show()\n",
    "print(\"And the Predictions are\", np.array(class_names)[y_pred])"
   ]
  }
 ],
 "metadata": {
  "kernelspec": {
   "display_name": "Python 3",
   "language": "python",
   "name": "python3"
  },
  "language_info": {
   "codemirror_mode": {
    "name": "ipython",
    "version": 3
   },
   "file_extension": ".py",
   "mimetype": "text/x-python",
   "name": "python",
   "nbconvert_exporter": "python",
   "pygments_lexer": "ipython3",
   "version": "3.7.6"
  }
 },
 "nbformat": 4,
 "nbformat_minor": 4
}
